{
    "cells": [
        {
            "cell_type": "markdown",
            "metadata": {
                "collapsed": true
            },
            "source": "# Capstone Project : To find the best neighborhood to open a restaurant in Toronto"
        },
        {
            "cell_type": "markdown",
            "metadata": {},
            "source": "Author : Avinandan Mukherjee"
        },
        {
            "cell_type": "markdown",
            "metadata": {},
            "source": "## Data Requirements & Description"
        },
        {
            "cell_type": "markdown",
            "metadata": {},
            "source": "In this project, we will only analyse the data of __Toronto__\n<br>\n\nWe will use the following datasets for exploring Toronto."
        },
        {
            "cell_type": "markdown",
            "metadata": {},
            "source": "### Data 1: Toronto Neighborhoods & Demography"
        },
        {
            "cell_type": "markdown",
            "metadata": {},
            "source": "__1. List of Toronto Neighborhoods by Postal Code__\n<br>\nI will be using the Wikipedia dataset as my base for the list of neighborhoods from the following link:\n<br>\n<https://en.wikipedia.org/wiki/List_of_postal_codes_of_Canada:_M>"
        },
        {
            "cell_type": "markdown",
            "metadata": {},
            "source": "__2. List of Toroto neighborhood population broken down by Postal Code__\n<br> \nI will import the list of polulations by Postal Code from the following link:\n<br>\n<https://www12.statcan.gc.ca/census-recensement/2016/dp-pd/hlt-fst/pd-pl/Tables/File.cfm?T=1201&SR=1&RPP=9999&PR=0&CMA=0&CSD=0&S=22&O=A&Lang=Eng&OFT=CSV>\n<br>Refer file: to_geo_space.csv"
        },
        {
            "cell_type": "markdown",
            "metadata": {},
            "source": "### Data 2: Toronto Neighborhoods Income "
        },
        {
            "cell_type": "markdown",
            "metadata": {},
            "source": "__1. Canandian National Average on Net Income__\n<br>\nDownload this data from the following website link:\n<br>\n<https://www150.statcan.gc.ca/n1/daily-quotidien/180313/dq180313a-eng.htm>\n<br>\nIn 2016, Canadian families & unattched individuals had a median post-tax income of $57,000.\n"
        },
        {
            "cell_type": "markdown",
            "metadata": {},
            "source": "__2. Average Net Income of Toronto Neighborhoods__\n<br>\nDownload this data manually from the following website link:\n<br>\n<https://www150.statcan.gc.ca/n1/daily-quotidien/180313/t001a-eng.htm>\n\n"
        },
        {
            "cell_type": "markdown",
            "metadata": {},
            "source": "### Data3: Toronto existing restaurants with their cuisines & farmers markets\n"
        },
        {
            "cell_type": "markdown",
            "metadata": {},
            "source": "We will use these below links to analze the existing competetion:\n* Details of Farmers Market : <https://data.ontario.ca/en/dataset/farmers-markets>\n* List of cusines : <https://en.wikipedia.org/wiki/Cuisine_in_Toronto>\n\nWe will scrape these websites and manually download the data whereever needed."
        },
        {
            "cell_type": "markdown",
            "metadata": {},
            "source": "### Data 4: List of all Restaurant venues in Toronto neighborhoods by Postal Code"
        },
        {
            "cell_type": "markdown",
            "metadata": {},
            "source": "Toronto geographical coordinates data will be utilized as input for the __Foursquare API__, that will be leveraged to provision venues information for each neighborhood. We will use the Foursquare API to explore neighborhoods in Toronto.\n<br>\n<https://foursquare.com/developers/apps>"
        },
        {
            "cell_type": "markdown",
            "metadata": {},
            "source": "## Application"
        },
        {
            "cell_type": "markdown",
            "metadata": {},
            "source": "We will now use the above data sources to buiuld our recommender system for exploration and analysis."
        },
        {
            "cell_type": "markdown",
            "metadata": {},
            "source": "_Week1 : Part2_"
        }
    ],
    "metadata": {
        "kernelspec": {
            "display_name": "Python 3.7",
            "language": "python",
            "name": "python3"
        },
        "language_info": {
            "codemirror_mode": {
                "name": "ipython",
                "version": 3
            },
            "file_extension": ".py",
            "mimetype": "text/x-python",
            "name": "python",
            "nbconvert_exporter": "python",
            "pygments_lexer": "ipython3",
            "version": "3.7.9"
        }
    },
    "nbformat": 4,
    "nbformat_minor": 1
}