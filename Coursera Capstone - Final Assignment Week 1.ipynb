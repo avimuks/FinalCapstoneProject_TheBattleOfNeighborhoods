{
    "cells": [
        {
            "cell_type": "markdown",
            "metadata": {
                "collapsed": true
            },
            "source": "# Coursera Capstone - Final Assignment Week 1"
        },
        {
            "cell_type": "markdown",
            "metadata": {},
            "source": "### IBM Applied Data Science Capstone"
        },
        {
            "cell_type": "markdown",
            "metadata": {},
            "source": "This notebook will be used for a capstone project for the city of Toronto to search for potential explanation of why a neighborhood is popular. The cause of complaints in another neighborhood, or anything else related to neighborhoods. Hence the name of the capstone project will be the battle of the neighborhoods.\n"
        },
        {
            "cell_type": "markdown",
            "metadata": {},
            "source": "For working on this analysis, Location data is data describing places and venues, such as their geographical location, their category, working hours, full address, and so on, such that for a given location given in the form of its geographical coordinates (or latitude and longitude values) one is able to determine what types of venues exist within a defined radius from that location. So, for a given location you will be able to tell if restaurants for example, exist nearby, or if schools, or parks, or gyms, or community centres exist nearby. Also, how many of each category exist and how each surrounding venue is reviewed by other people. So this is what's referred to as location data. Now among the many location data providers are Foursquare, Google Places, and Yelp. Location data providers will differ in a number of features. So rate limits for example is one of them, which essentially means how many API calls you can make in a defined time frame such as calls per hour or calls per day. Another feature is cost, which is how much it would cost you to use their API to fetch location data. Another feature is coverage, which is geospatial coverage. In other words, how many countries or geographical locations the location data set covers. Another feature is accuracy, so how accurate is the location data provided by each provider? Especially those that crowd source their data. And finally, update frequency, which means how frequently the location data gets updated. So you will find some providers like Foursquare for example, who update their data continuously, whereas other providers would update their data either daily or weekly depending on their location data. So, these are some of the features to keep in mind."
        },
        {
            "cell_type": "code",
            "execution_count": 24,
            "metadata": {},
            "outputs": [],
            "source": "import pandas as pd "
        },
        {
            "cell_type": "code",
            "execution_count": 25,
            "metadata": {},
            "outputs": [],
            "source": "import numpy as np"
        },
        {
            "cell_type": "code",
            "execution_count": 26,
            "metadata": {},
            "outputs": [
                {
                    "name": "stdout",
                    "output_type": "stream",
                    "text": "Hello Capstone Project Course!\n"
                }
            ],
            "source": "print(\"Hello Capstone Project Course!\")"
        },
        {
            "cell_type": "markdown",
            "metadata": {},
            "source": "Author : Avinandan Mukherjee"
        },
        {
            "cell_type": "code",
            "execution_count": null,
            "metadata": {},
            "outputs": [],
            "source": ""
        }
    ],
    "metadata": {
        "kernelspec": {
            "display_name": "Python 3.7",
            "language": "python",
            "name": "python3"
        },
        "language_info": {
            "codemirror_mode": {
                "name": "ipython",
                "version": 3
            },
            "file_extension": ".py",
            "mimetype": "text/x-python",
            "name": "python",
            "nbconvert_exporter": "python",
            "pygments_lexer": "ipython3",
            "version": "3.7.9"
        }
    },
    "nbformat": 4,
    "nbformat_minor": 1
}